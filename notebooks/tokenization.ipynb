{
 "cells": [
  {
   "cell_type": "code",
   "execution_count": 12,
   "metadata": {},
   "outputs": [
    {
     "data": {
      "text/plain": [
       "4457889"
      ]
     },
     "execution_count": 12,
     "metadata": {},
     "output_type": "execute_result"
    }
   ],
   "source": [
    "from infoseq.bpe import bpe_from_text\n",
    "\n",
    "from infoseq.dataset import kjv_path\n",
    "\n",
    "with open(kjv_path, 'rb') as f:\n",
    "    kjv = f.read()\n",
    "\n",
    "len(kjv)"
   ]
  },
  {
   "cell_type": "code",
   "execution_count": 13,
   "metadata": {},
   "outputs": [],
   "source": [
    "bpe = bpe_from_text(kjv, max_tokens=5000)\n",
    "len(bpe)\n",
    "\n",
    "with open('/tmp/bpe.json', 'w') as f:\n",
    "    f.write(bpe.to_json())"
   ]
  },
  {
   "cell_type": "code",
   "execution_count": 9,
   "metadata": {},
   "outputs": [
    {
     "data": {
      "text/plain": [
       "[]"
      ]
     },
     "execution_count": 9,
     "metadata": {},
     "output_type": "execute_result"
    }
   ],
   "source": [
    "[k for k in bpe.encode_map if len(k) > 1][:10]"
   ]
  },
  {
   "cell_type": "code",
   "execution_count": 14,
   "metadata": {},
   "outputs": [],
   "source": [
    "with open('/tmp/bpe.dot', 'w') as f:\n",
    "    f.write(bpe.to_dot())"
   ]
  }
 ],
 "metadata": {
  "interpreter": {
   "hash": "98e383efd562c29a75ad81f9b3092a5b6976e9c917db4b8c3a6ed0ebbc0b47f0"
  },
  "kernelspec": {
   "display_name": "Python 3.10.0 64-bit ('3.10.0': pyenv)",
   "language": "python",
   "name": "python3"
  },
  "language_info": {
   "codemirror_mode": {
    "name": "ipython",
    "version": 3
   },
   "file_extension": ".py",
   "mimetype": "text/x-python",
   "name": "python",
   "nbconvert_exporter": "python",
   "pygments_lexer": "ipython3",
   "version": "3.9.7"
  },
  "orig_nbformat": 4
 },
 "nbformat": 4,
 "nbformat_minor": 2
}
