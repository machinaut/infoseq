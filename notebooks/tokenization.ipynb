{
 "cells": [
  {
   "cell_type": "code",
   "execution_count": 12,
   "metadata": {},
   "outputs": [
    {
     "data": {
      "text/plain": [
       "4457889"
      ]
     },
     "execution_count": 12,
     "metadata": {},
     "output_type": "execute_result"
    }
   ],
   "source": [
    "from infoseq.bpe import bpe_from_text\n",
    "\n",
    "from infoseq.dataset import kjv_path\n",
    "\n",
    "with open(kjv_path, 'rb') as f:\n",
    "    kjv = f.read()\n",
    "\n",
    "len(kjv)"
   ]
  },
  {
   "cell_type": "code",
   "execution_count": 13,
   "metadata": {},
   "outputs": [],
   "source": [
    "bpe = bpe_from_text(kjv, max_tokens=5000)\n",
    "len(bpe)\n",
    "\n",
    "with open('/tmp/bpe.json', 'w') as f:\n",
    "    f.write(bpe.to_json())"
   ]
  },
  {
   "cell_type": "code",
   "execution_count": 9,
   "metadata": {},
   "outputs": [
    {
     "data": {
      "text/plain": [
       "[]"
      ]
     },
     "execution_count": 9,
     "metadata": {},
     "output_type": "execute_result"
    }
   ],
   "source": [
    "[k for k in bpe.encode_map if len(k) > 1][:10]"
   ]
  },
  {
   "cell_type": "code",
   "execution_count": 14,
   "metadata": {},
   "outputs": [],
   "source": [
    "with open('/tmp/bpe.dot', 'w') as f:\n",
    "    f.write(bpe.to_dot())"
   ]
  },
  {
   "cell_type": "code",
   "execution_count": 20,
   "metadata": {},
   "outputs": [
    {
     "data": {
      "text/plain": [
       "[0, 1, 2, 3, 4, 5, 6, 7, 8, 9]"
      ]
     },
     "execution_count": 20,
     "metadata": {},
     "output_type": "execute_result"
    }
   ],
   "source": [
    "import os\n",
    "import json\n",
    "from infoseq.dataset import DATA_PATH\n",
    "\n",
    "decode_map = json.load(open(os.path.join(DATA_PATH, 'gpt2-encoder.json')))\n",
    "encode_map = {v: k for k, v in decode_map.items()}"
   ]
  },
  {
   "cell_type": "code",
   "execution_count": 12,
   "metadata": {},
   "outputs": [],
   "source": [
    "import os\n",
    "from infoseq.gpt2 import get_encoder\n",
    "from infoseq.token import Tokenization\n",
    "\n",
    "MODELS_PATH = os.path.expanduser('~/code/gpt-2/models')\n",
    "\n",
    "encoder = get_encoder('1558M', MODELS_PATH)\n",
    "\n",
    "decode_map = {i: encoder.decode([i]) for i in range(50257)}\n",
    "encode_map = {v: k for k, v in decode_map.items()}\n",
    "\n",
    "def get_prev_token(code):\n",
    "    while code:\n",
    "        code = code[:-1]\n",
    "        if code in encode_map:\n",
    "            return encode_map[code]\n",
    "    return None\n",
    "\n",
    "# Generate graphviz dot file\n",
    "node_lines = ['Root [label=\"\"]']\n",
    "edge_lines = []\n",
    "for token, code in sorted(decode_map.items()):\n",
    "    if token > 0:\n",
    "        prev_token = get_prev_token(code)\n",
    "        if prev_token is not None:\n",
    "            edge_lines.append(f'{prev_token} -> {token}')\n",
    "        else:\n",
    "            edge_lines.append(f'Root -> {token}')\n",
    "    label = repr(code).replace('\"','\\\\\"')\n",
    "    node_lines.append(f'{token} [label=\"{label}\"]')\n",
    "all_lines = ['digraph {'] + node_lines + edge_lines + ['}']\n",
    "graphviz = '\\n'.join(all_lines)\n",
    "\n",
    "with open('/tmp/gpt2.dot', 'w') as f:\n",
    "    f.write(graphviz)"
   ]
  },
  {
   "cell_type": "code",
   "execution_count": 8,
   "metadata": {},
   "outputs": [
    {
     "data": {
      "text/plain": [
       "b'hello'"
      ]
     },
     "execution_count": 8,
     "metadata": {},
     "output_type": "execute_result"
    }
   ],
   "source": []
  },
  {
   "cell_type": "code",
   "execution_count": null,
   "metadata": {},
   "outputs": [],
   "source": []
  }
 ],
 "metadata": {
  "interpreter": {
   "hash": "98e383efd562c29a75ad81f9b3092a5b6976e9c917db4b8c3a6ed0ebbc0b47f0"
  },
  "kernelspec": {
   "display_name": "Python 3.10.0 64-bit ('3.10.0': pyenv)",
   "language": "python",
   "name": "python3"
  },
  "language_info": {
   "codemirror_mode": {
    "name": "ipython",
    "version": 3
   },
   "file_extension": ".py",
   "mimetype": "text/x-python",
   "name": "python",
   "nbconvert_exporter": "python",
   "pygments_lexer": "ipython3",
   "version": "3.9.7"
  },
  "orig_nbformat": 4
 },
 "nbformat": 4,
 "nbformat_minor": 2
}
