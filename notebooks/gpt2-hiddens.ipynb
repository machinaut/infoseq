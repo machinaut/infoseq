{
 "cells": [
  {
   "cell_type": "code",
   "execution_count": 57,
   "metadata": {},
   "outputs": [
    {
     "name": "stderr",
     "output_type": "stream",
     "text": [
      "Reusing dataset wikitext (/Users/aray/.cache/huggingface/datasets/wikitext/wikitext-103-v1/1.0.0/a241db52902eaf2c6aa732210bead40c090019a499ceb13bcbfa3f8ab646a126)\n"
     ]
    }
   ],
   "source": [
    "import random\n",
    "import torch\n",
    "from transformers import GPT2Config, GPT2Model, GPT2Tokenizer\n",
    "from datasets import load_dataset\n",
    "\n",
    "config = GPT2Config.from_pretrained('gpt2-medium')\n",
    "config.output_hidden_states = True\n",
    "model = GPT2Model.from_pretrained('gpt2-medium', config=config)\n",
    "tokenizer = GPT2Tokenizer.from_pretrained(\"gpt2\")\n",
    "\n",
    "dataset = load_dataset('wikitext', 'wikitext-103-v1', split='validation')\n",
    "longer_examples = [t for t in dataset['text'] if len(t) > 200]\n",
    "example = random.choice(longer_examples)\n",
    "tokens = tokenizer.encode(example)\n",
    "inputs = tokens[:len(tokens)//2]\n",
    "\n",
    "outputs = model(torch.tensor([inputs]))\n",
    "hidden_states = outputs['hidden_states']\n"
   ]
  },
  {
   "cell_type": "code",
   "execution_count": 58,
   "metadata": {},
   "outputs": [
    {
     "data": {
      "text/plain": [
       "' During the second work @-@ in, the remainder of the stone floor was boarded, again using double @-@ grooved boards with a metal tongue between them. The window on the dust floor was rebuilt and the reconstruction of the top four courses of brickwork continued. The top two courses were rebuilt with red engineering bricks. The dust floor window had a reinforced concrete lintel cast as the tower was weak'"
      ]
     },
     "execution_count": 58,
     "metadata": {},
     "output_type": "execute_result"
    }
   ],
   "source": [
    "tokenizer.decode(inputs)"
   ]
  },
  {
   "cell_type": "code",
   "execution_count": null,
   "metadata": {},
   "outputs": [],
   "source": []
  }
 ],
 "metadata": {
  "interpreter": {
   "hash": "98e383efd562c29a75ad81f9b3092a5b6976e9c917db4b8c3a6ed0ebbc0b47f0"
  },
  "kernelspec": {
   "display_name": "Python 3.10.0 64-bit ('3.10.0': pyenv)",
   "language": "python",
   "name": "python3"
  },
  "language_info": {
   "codemirror_mode": {
    "name": "ipython",
    "version": 3
   },
   "file_extension": ".py",
   "mimetype": "text/x-python",
   "name": "python",
   "nbconvert_exporter": "python",
   "pygments_lexer": "ipython3",
   "version": "3.9.9"
  },
  "orig_nbformat": 4
 },
 "nbformat": 4,
 "nbformat_minor": 2
}
